{
  "nbformat": 4,
  "nbformat_minor": 0,
  "metadata": {
    "colab": {
      "provenance": [],
      "gpuType": "T4",
      "authorship_tag": "ABX9TyNGxr+hGvYfNQ5MQPGPUvQS",
      "include_colab_link": true
    },
    "kernelspec": {
      "name": "python3",
      "display_name": "Python 3"
    },
    "language_info": {
      "name": "python"
    },
    "accelerator": "GPU"
  },
  "cells": [
    {
      "cell_type": "markdown",
      "metadata": {
        "id": "view-in-github",
        "colab_type": "text"
      },
      "source": [
        "<a href=\"https://colab.research.google.com/github/Sanjeeda-Jeba/Brain_Tumor_Classification/blob/main/BrainTumorClassification_catg_updated.ipynb\" target=\"_parent\"><img src=\"https://colab.research.google.com/assets/colab-badge.svg\" alt=\"Open In Colab\"/></a>"
      ]
    },
    {
      "cell_type": "markdown",
      "source": [
        "# Dataset\n",
        " * Link: `https://www.kaggle.com/datasets/ahmedhamada0/brain-tumor-detection`"
      ],
      "metadata": {
        "id": "r3gD0RVaF2o3"
      }
    },
    {
      "cell_type": "code",
      "execution_count": null,
      "metadata": {
        "id": "p47jccnWjUk5"
      },
      "outputs": [],
      "source": [
        "# Toget the dataset saving from DropBox\n",
        "\n",
        "!wget https://www.dropbox.com/scl/fi/h9m24hojzfumn0utj9c9s/Br35H_Dataset.zip?rlkey=tpflcfx3tchdpnblxnuxkj6ze&dl=0\n"
      ]
    },
    {
      "cell_type": "code",
      "source": [
        "# UNZIP\n",
        "\n",
        "!unzip /content/Br35H_Dataset.zip?rlkey=tpflcfx3tchdpnblxnuxkj6ze\n"
      ],
      "metadata": {
        "id": "szKWhtsglNrx"
      },
      "execution_count": null,
      "outputs": []
    },
    {
      "cell_type": "code",
      "source": [
        "import cv2\n",
        "import os\n",
        "import tensorflow as tf\n",
        "from tensorflow import keras\n",
        "from PIL import Image\n",
        "import numpy as np\n",
        "from sklearn.model_selection import train_test_split\n",
        "from sklearn.metrics import accuracy_score\n",
        "from keras.utils import normalize, to_categorical\n",
        "from keras.models import Sequential, load_model\n",
        "from keras.layers import Conv2D, MaxPooling2D\n",
        "from keras.layers import Activation, Dropout, Flatten, Dense\n"
      ],
      "metadata": {
        "id": "IpTZHkUNHIoH"
      },
      "execution_count": 3,
      "outputs": []
    },
    {
      "cell_type": "code",
      "source": [
        "img_dir = \"/content/Dataset/\""
      ],
      "metadata": {
        "id": "cLzLgCUlHXHl"
      },
      "execution_count": 4,
      "outputs": []
    },
    {
      "cell_type": "code",
      "source": [
        "no_img = os.listdir(img_dir + \"no/\")\n",
        "yes_img = os.listdir(img_dir + \"yes/\")\n",
        "len(no_img)\n",
        "len(yes_img)\n",
        "\n",
        "### Creating two lists:\n",
        "input_size = 64\n",
        "d_s = []\n",
        "label = []\n"
      ],
      "metadata": {
        "id": "OLv7MYULHq3r"
      },
      "execution_count": 5,
      "outputs": []
    },
    {
      "cell_type": "code",
      "source": [
        "\n",
        "for i, img_name in enumerate(no_img):\n",
        "  if(img_name.split('.')[1] == 'jpg'):\n",
        "    img = cv2.imread(img_dir + \"no/\" + img_name)\n",
        "    img = Image.fromarray(img , 'RGB')\n",
        "    img = img.resize((input_size,input_size))\n",
        "    d_s.append(np.array(img))\n",
        "    label.append(0)"
      ],
      "metadata": {
        "id": "vkmn9hsfI5Na"
      },
      "execution_count": 6,
      "outputs": []
    },
    {
      "cell_type": "code",
      "source": [
        "#Now The same exact steps for the Yes folder:\n",
        "for i, img_name in enumerate(yes_img):\n",
        "  if(img_name.split('.')[1] == 'jpg'):\n",
        "    img = cv2.imread(img_dir + \"yes/\" + img_name)\n",
        "    img = Image.fromarray(img , 'RGB')\n",
        "    img = img.resize((input_size,input_size))\n",
        "    d_s.append(np.array(img))\n",
        "    label.append(1)\n"
      ],
      "metadata": {
        "id": "7ySXS9QZMhWx"
      },
      "execution_count": 7,
      "outputs": []
    },
    {
      "cell_type": "code",
      "source": [
        "len(d_s)"
      ],
      "metadata": {
        "colab": {
          "base_uri": "https://localhost:8080/"
        },
        "id": "_Bfd_fu1Nf4C",
        "outputId": "b998e500-9280-4b77-e226-b577c5fbc48e"
      },
      "execution_count": 8,
      "outputs": [
        {
          "output_type": "execute_result",
          "data": {
            "text/plain": [
              "3000"
            ]
          },
          "metadata": {},
          "execution_count": 8
        }
      ]
    },
    {
      "cell_type": "code",
      "source": [
        "### Now turning both the lists (d_s and label) into numpy arrays:\n",
        "\n",
        "dataset = np.array(d_s)\n",
        "\n",
        "label = np.array(label)"
      ],
      "metadata": {
        "id": "V7Ugk41ROPM6"
      },
      "execution_count": 9,
      "outputs": []
    },
    {
      "cell_type": "code",
      "source": [
        "### Spliting the dataset:\n",
        "\n",
        "x_train, x_test, y_train, y_test = train_test_split(dataset, label, test_size = 0.2,\n",
        "                                                    random_state = 0)"
      ],
      "metadata": {
        "id": "F1_Zd2T6PRY5"
      },
      "execution_count": 10,
      "outputs": []
    },
    {
      "cell_type": "code",
      "source": [
        "### Now normalize the data:\n",
        "x_train = normalize(x_train, axis = 1)\n",
        "\n",
        "x_test = normalize(x_test, axis = 1)\n",
        "\n",
        "### Converting labels to categorical:\n",
        "\n",
        "y_train = to_categorical(y_train, num_classes=2)\n",
        "y_test = to_categorical(y_test, num_classes=2)"
      ],
      "metadata": {
        "id": "8LcUz2fBRDLK"
      },
      "execution_count": 11,
      "outputs": []
    },
    {
      "cell_type": "markdown",
      "source": [
        "# Model Building"
      ],
      "metadata": {
        "id": "ljYxlWelU9Kw"
      }
    },
    {
      "cell_type": "code",
      "source": [
        "model = Sequential()"
      ],
      "metadata": {
        "id": "BXZbBIj6VBHY"
      },
      "execution_count": 12,
      "outputs": []
    },
    {
      "cell_type": "code",
      "source": [
        "model.add(Conv2D(32, (3,3), input_shape = (input_size, input_size, 3)))\n",
        "\n",
        "model.add(Activation('relu'))\n",
        "\n",
        "model.add(MaxPooling2D(pool_size=(2,2)))"
      ],
      "metadata": {
        "id": "EMa-XJkpWj8r"
      },
      "execution_count": 13,
      "outputs": []
    },
    {
      "cell_type": "code",
      "source": [
        "model.add(Conv2D(32, (3,3), kernel_initializer= 'he_uniform'))\n",
        "\n",
        "model.add(Activation('relu'))\n",
        "\n",
        "model.add(MaxPooling2D(pool_size=(2,2)))"
      ],
      "metadata": {
        "id": "pWAM6FWiaStl"
      },
      "execution_count": 14,
      "outputs": []
    },
    {
      "cell_type": "code",
      "source": [
        "model.add(Conv2D(64, (3,3), kernel_initializer= 'he_uniform'))\n",
        "\n",
        "model.add(Activation('relu'))\n",
        "\n",
        "model.add(MaxPooling2D(pool_size=(2,2)))"
      ],
      "metadata": {
        "id": "ESt1Rg5paeOk"
      },
      "execution_count": 15,
      "outputs": []
    },
    {
      "cell_type": "code",
      "source": [
        "model.add(Flatten())\n",
        "model.add(Dense(64))\n",
        "model.add(Activation('relu'))\n",
        "model.add(Dropout(0.5))\n",
        "model.add(Dense(2))        #Categorical Classification\n",
        "model.add(Activation('softmax'))"
      ],
      "metadata": {
        "id": "WOJgxEiUbdjz"
      },
      "execution_count": 16,
      "outputs": []
    },
    {
      "cell_type": "markdown",
      "source": [
        "* Binary CrossEntropy =1 (activation: `sigmoid`)\n",
        "* Categorical CrossEntropy = 2, (activation: `softMax`)\n",
        "\n"
      ],
      "metadata": {
        "id": "2bS8O5Uhcr57"
      }
    },
    {
      "cell_type": "code",
      "source": [
        "model.compile(loss = 'categorical_crossentropy', optimizer= 'adam',\n",
        "              metrics=['accuracy'])"
      ],
      "metadata": {
        "id": "yvwDtLdXdNT4"
      },
      "execution_count": 17,
      "outputs": []
    },
    {
      "cell_type": "code",
      "source": [
        "model.fit(x_train, y_train, batch_size=32, verbose=1, epochs = 20,\n",
        "          validation_data= (x_test, y_test), shuffle= False)"
      ],
      "metadata": {
        "colab": {
          "base_uri": "https://localhost:8080/"
        },
        "id": "V8j0zMB3eAju",
        "outputId": "764201ab-045a-491d-d5ac-dbf820ac6296"
      },
      "execution_count": 18,
      "outputs": [
        {
          "output_type": "stream",
          "name": "stdout",
          "text": [
            "Epoch 1/20\n",
            "75/75 [==============================] - 6s 12ms/step - loss: 0.5450 - accuracy: 0.7296 - val_loss: 0.4873 - val_accuracy: 0.7550\n",
            "Epoch 2/20\n",
            "75/75 [==============================] - 0s 6ms/step - loss: 0.4221 - accuracy: 0.8238 - val_loss: 0.3823 - val_accuracy: 0.8267\n",
            "Epoch 3/20\n",
            "75/75 [==============================] - 0s 6ms/step - loss: 0.3216 - accuracy: 0.8642 - val_loss: 0.3122 - val_accuracy: 0.8700\n",
            "Epoch 4/20\n",
            "75/75 [==============================] - 0s 6ms/step - loss: 0.2632 - accuracy: 0.8958 - val_loss: 0.2431 - val_accuracy: 0.9067\n",
            "Epoch 5/20\n",
            "75/75 [==============================] - 0s 6ms/step - loss: 0.1793 - accuracy: 0.9329 - val_loss: 0.1946 - val_accuracy: 0.9383\n",
            "Epoch 6/20\n",
            "75/75 [==============================] - 0s 6ms/step - loss: 0.1291 - accuracy: 0.9567 - val_loss: 0.1596 - val_accuracy: 0.9483\n",
            "Epoch 7/20\n",
            "75/75 [==============================] - 0s 6ms/step - loss: 0.0919 - accuracy: 0.9725 - val_loss: 0.1319 - val_accuracy: 0.9633\n",
            "Epoch 8/20\n",
            "75/75 [==============================] - 0s 6ms/step - loss: 0.0577 - accuracy: 0.9829 - val_loss: 0.1377 - val_accuracy: 0.9633\n",
            "Epoch 9/20\n",
            "75/75 [==============================] - 0s 6ms/step - loss: 0.0398 - accuracy: 0.9896 - val_loss: 0.0991 - val_accuracy: 0.9717\n",
            "Epoch 10/20\n",
            "75/75 [==============================] - 0s 6ms/step - loss: 0.0431 - accuracy: 0.9862 - val_loss: 0.1202 - val_accuracy: 0.9700\n",
            "Epoch 11/20\n",
            "75/75 [==============================] - 0s 6ms/step - loss: 0.0234 - accuracy: 0.9921 - val_loss: 0.1585 - val_accuracy: 0.9633\n",
            "Epoch 12/20\n",
            "75/75 [==============================] - 0s 6ms/step - loss: 0.0180 - accuracy: 0.9954 - val_loss: 0.1097 - val_accuracy: 0.9700\n",
            "Epoch 13/20\n",
            "75/75 [==============================] - 0s 6ms/step - loss: 0.0139 - accuracy: 0.9962 - val_loss: 0.1081 - val_accuracy: 0.9767\n",
            "Epoch 14/20\n",
            "75/75 [==============================] - 0s 6ms/step - loss: 0.0106 - accuracy: 0.9975 - val_loss: 0.1051 - val_accuracy: 0.9733\n",
            "Epoch 15/20\n",
            "75/75 [==============================] - 0s 6ms/step - loss: 0.0105 - accuracy: 0.9975 - val_loss: 0.1334 - val_accuracy: 0.9733\n",
            "Epoch 16/20\n",
            "75/75 [==============================] - 0s 6ms/step - loss: 0.0041 - accuracy: 1.0000 - val_loss: 0.1734 - val_accuracy: 0.9717\n",
            "Epoch 17/20\n",
            "75/75 [==============================] - 1s 8ms/step - loss: 0.0055 - accuracy: 0.9996 - val_loss: 0.1632 - val_accuracy: 0.9717\n",
            "Epoch 18/20\n",
            "75/75 [==============================] - 1s 9ms/step - loss: 0.0026 - accuracy: 1.0000 - val_loss: 0.1632 - val_accuracy: 0.9750\n",
            "Epoch 19/20\n",
            "75/75 [==============================] - 1s 8ms/step - loss: 0.0031 - accuracy: 1.0000 - val_loss: 0.1602 - val_accuracy: 0.9783\n",
            "Epoch 20/20\n",
            "75/75 [==============================] - 1s 9ms/step - loss: 0.0075 - accuracy: 0.9983 - val_loss: 0.1853 - val_accuracy: 0.9767\n"
          ]
        },
        {
          "output_type": "execute_result",
          "data": {
            "text/plain": [
              "<keras.src.callbacks.History at 0x7aa175bf02b0>"
            ]
          },
          "metadata": {},
          "execution_count": 18
        }
      ]
    },
    {
      "cell_type": "code",
      "source": [
        "model.save('BrainTumor20Epochs_categorical.keras')"
      ],
      "metadata": {
        "id": "T9VVWaF-fIUp"
      },
      "execution_count": 20,
      "outputs": []
    },
    {
      "cell_type": "code",
      "source": [
        "MODEL = load_model('BrainTumor20Epochs_categorical.keras')"
      ],
      "metadata": {
        "id": "2RvIsSKMATok"
      },
      "execution_count": 21,
      "outputs": []
    },
    {
      "cell_type": "code",
      "source": [
        "pred_img = cv2.imread('/content/pred/pred38.jpg') #Copy the path of any image from pred folder\n",
        "\n",
        "img = Image.fromarray(pred_img)\n",
        "img = img.resize([64,64])\n",
        "\n",
        "### numpy array\n",
        "\n",
        "img = np.array(img)\n",
        "\n",
        "input_img = np.expand_dims(img, axis=0)"
      ],
      "metadata": {
        "id": "YwkurtzCBNoO"
      },
      "execution_count": 22,
      "outputs": []
    },
    {
      "cell_type": "code",
      "source": [
        "prediction = model.predict(input_img)"
      ],
      "metadata": {
        "colab": {
          "base_uri": "https://localhost:8080/"
        },
        "id": "JU26vvbMC6tY",
        "outputId": "005cd83f-28f5-491b-abd0-32c7fbc038cc"
      },
      "execution_count": 23,
      "outputs": [
        {
          "output_type": "stream",
          "name": "stdout",
          "text": [
            "1/1 [==============================] - 0s 410ms/step\n"
          ]
        }
      ]
    },
    {
      "cell_type": "code",
      "source": [
        "prediction"
      ],
      "metadata": {
        "id": "-L8LYzucHtGK",
        "colab": {
          "base_uri": "https://localhost:8080/"
        },
        "outputId": "29f4cadd-8077-4dce-de66-71300d751c6d"
      },
      "execution_count": 24,
      "outputs": [
        {
          "output_type": "execute_result",
          "data": {
            "text/plain": [
              "array([[1., 0.]], dtype=float32)"
            ]
          },
          "metadata": {},
          "execution_count": 24
        }
      ]
    },
    {
      "cell_type": "code",
      "source": [
        "label = np.argmax(prediction, axis = -1)\n",
        "print(label)"
      ],
      "metadata": {
        "colab": {
          "base_uri": "https://localhost:8080/"
        },
        "id": "f6VtvH4gapVm",
        "outputId": "293eb5c0-2633-43e6-ada7-309d37eaae14"
      },
      "execution_count": 25,
      "outputs": [
        {
          "output_type": "stream",
          "name": "stdout",
          "text": [
            "[0]\n"
          ]
        }
      ]
    },
    {
      "cell_type": "code",
      "source": [
        "if label[0] == 1:\n",
        "  print('Tumor detected!')\n",
        "\n",
        "else:\n",
        "  print('Congratulations! no tumor detected!')"
      ],
      "metadata": {
        "colab": {
          "base_uri": "https://localhost:8080/"
        },
        "id": "VDbxPPccblvu",
        "outputId": "25e1c69f-bb09-4d33-f0ea-1e0abe1453c6"
      },
      "execution_count": 26,
      "outputs": [
        {
          "output_type": "stream",
          "name": "stdout",
          "text": [
            "Congratulations! no tumor detected!\n"
          ]
        }
      ]
    }
  ]
}