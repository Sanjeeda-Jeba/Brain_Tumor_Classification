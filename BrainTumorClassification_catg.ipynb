{
  "nbformat": 4,
  "nbformat_minor": 0,
  "metadata": {
    "colab": {
      "provenance": [],
      "gpuType": "T4",
      "authorship_tag": "ABX9TyPiTjn/UlpBMPJkIlbSJxD2",
      "include_colab_link": true
    },
    "kernelspec": {
      "name": "python3",
      "display_name": "Python 3"
    },
    "language_info": {
      "name": "python"
    },
    "accelerator": "GPU"
  },
  "cells": [
    {
      "cell_type": "markdown",
      "metadata": {
        "id": "view-in-github",
        "colab_type": "text"
      },
      "source": [
        "<a href=\"https://colab.research.google.com/github/Sanjeeda-Jeba/Brain_Tumor_Classification/blob/main/BrainTumorClassification_catg.ipynb\" target=\"_parent\"><img src=\"https://colab.research.google.com/assets/colab-badge.svg\" alt=\"Open In Colab\"/></a>"
      ]
    },
    {
      "cell_type": "markdown",
      "source": [
        "# Dataset\n",
        " * Link: `https://www.kaggle.com/datasets/ahmedhamada0/brain-tumor-detection`"
      ],
      "metadata": {
        "id": "r3gD0RVaF2o3"
      }
    },
    {
      "cell_type": "code",
      "execution_count": null,
      "metadata": {
        "id": "p47jccnWjUk5"
      },
      "outputs": [],
      "source": [
        "# Toget the dataset saving from DropBox\n",
        "\n",
        "!wget https://www.dropbox.com/scl/fi/h9m24hojzfumn0utj9c9s/Br35H_Dataset.zip?rlkey=tpflcfx3tchdpnblxnuxkj6ze&dl=0\n"
      ]
    },
    {
      "cell_type": "code",
      "source": [
        "# UNZIP\n",
        "\n",
        "!unzip /content/Br35H_Dataset.zip?rlkey=tpflcfx3tchdpnblxnuxkj6ze\n"
      ],
      "metadata": {
        "id": "szKWhtsglNrx"
      },
      "execution_count": null,
      "outputs": []
    },
    {
      "cell_type": "code",
      "source": [
        "import cv2\n",
        "import os\n",
        "import tensorflow as tf\n",
        "from tensorflow import keras\n",
        "from PIL import Image\n",
        "import numpy as np\n",
        "from sklearn.model_selection import train_test_split\n",
        "from keras.utils import normalize, to_categorical\n",
        "from keras.models import Sequential\n",
        "from keras.layers import Conv2D, MaxPooling2D\n",
        "from keras.layers import Activation, Dropout, Flatten, Dense\n"
      ],
      "metadata": {
        "id": "IpTZHkUNHIoH"
      },
      "execution_count": 20,
      "outputs": []
    },
    {
      "cell_type": "code",
      "source": [
        "img_dir = \"/content/Dataset/\""
      ],
      "metadata": {
        "id": "cLzLgCUlHXHl"
      },
      "execution_count": 4,
      "outputs": []
    },
    {
      "cell_type": "code",
      "source": [
        "no_img = os.listdir(img_dir + \"no/\")\n",
        "yes_img = os.listdir(img_dir + \"yes/\")\n",
        "len(no_img)\n",
        "len(yes_img)\n",
        "\n",
        "### Creating two lists:\n",
        "input_size = 64\n",
        "d_s = []\n",
        "label = []\n"
      ],
      "metadata": {
        "id": "OLv7MYULHq3r"
      },
      "execution_count": 5,
      "outputs": []
    },
    {
      "cell_type": "code",
      "source": [
        "\n",
        "for i, img_name in enumerate(no_img):\n",
        "  if(img_name.split('.')[1] == 'jpg'):\n",
        "    img = cv2.imread(img_dir + \"no/\" + img_name)\n",
        "    img = Image.fromarray(img , 'RGB')\n",
        "    img = img.resize((input_size,input_size))\n",
        "    d_s.append(np.array(img))\n",
        "    label.append(0)"
      ],
      "metadata": {
        "id": "vkmn9hsfI5Na"
      },
      "execution_count": 6,
      "outputs": []
    },
    {
      "cell_type": "code",
      "source": [
        "#Now The same exact steps for the Yes folder:\n",
        "for i, img_name in enumerate(yes_img):\n",
        "  if(img_name.split('.')[1] == 'jpg'):\n",
        "    img = cv2.imread(img_dir + \"yes/\" + img_name)\n",
        "    img = Image.fromarray(img , 'RGB')\n",
        "    img = img.resize((input_size,input_size))\n",
        "    d_s.append(np.array(img))\n",
        "    label.append(1)\n"
      ],
      "metadata": {
        "id": "7ySXS9QZMhWx"
      },
      "execution_count": 7,
      "outputs": []
    },
    {
      "cell_type": "code",
      "source": [
        "len(d_s)"
      ],
      "metadata": {
        "colab": {
          "base_uri": "https://localhost:8080/"
        },
        "id": "_Bfd_fu1Nf4C",
        "outputId": "dc70f0ab-6e26-4f3b-8202-892abbe5b4bd"
      },
      "execution_count": 8,
      "outputs": [
        {
          "output_type": "execute_result",
          "data": {
            "text/plain": [
              "3000"
            ]
          },
          "metadata": {},
          "execution_count": 8
        }
      ]
    },
    {
      "cell_type": "code",
      "source": [
        "### Now turning both the lists (d_s and label) into numpy arrays:\n",
        "\n",
        "dataset = np.array(d_s)\n",
        "\n",
        "label = np.array(label)"
      ],
      "metadata": {
        "id": "V7Ugk41ROPM6"
      },
      "execution_count": 9,
      "outputs": []
    },
    {
      "cell_type": "code",
      "source": [
        "### Spliting the dataset:\n",
        "\n",
        "x_train, x_test, y_train, y_test = train_test_split(dataset, label, test_size = 0.2,\n",
        "                                                    random_state = 0)"
      ],
      "metadata": {
        "id": "F1_Zd2T6PRY5"
      },
      "execution_count": 10,
      "outputs": []
    },
    {
      "cell_type": "code",
      "source": [
        "### Now normalize the data:\n",
        "x_train = normalize(x_train, axis = 1)\n",
        "\n",
        "x_test = normalize(x_test, axis = 1)\n",
        "\n",
        "### Converting labels to categorical:\n",
        "\n",
        "y_train = to_categorical(y_train, num_classes=2)\n",
        "y_test = to_categorical(y_test, num_classes=2)"
      ],
      "metadata": {
        "id": "8LcUz2fBRDLK"
      },
      "execution_count": 24,
      "outputs": []
    },
    {
      "cell_type": "markdown",
      "source": [
        "# Model Building"
      ],
      "metadata": {
        "id": "ljYxlWelU9Kw"
      }
    },
    {
      "cell_type": "code",
      "source": [
        "model = Sequential()"
      ],
      "metadata": {
        "id": "BXZbBIj6VBHY"
      },
      "execution_count": 12,
      "outputs": []
    },
    {
      "cell_type": "code",
      "source": [
        "model.add(Conv2D(32, (3,3), input_shape = (input_size, input_size, 3)))\n",
        "\n",
        "model.add(Activation('relu'))\n",
        "\n",
        "model.add(MaxPooling2D(pool_size=(2,2)))"
      ],
      "metadata": {
        "id": "EMa-XJkpWj8r"
      },
      "execution_count": 13,
      "outputs": []
    },
    {
      "cell_type": "code",
      "source": [
        "model.add(Conv2D(32, (3,3), kernel_initializer= 'he_uniform'))\n",
        "\n",
        "model.add(Activation('relu'))\n",
        "\n",
        "model.add(MaxPooling2D(pool_size=(2,2)))"
      ],
      "metadata": {
        "id": "pWAM6FWiaStl"
      },
      "execution_count": 14,
      "outputs": []
    },
    {
      "cell_type": "code",
      "source": [
        "model.add(Conv2D(64, (3,3), kernel_initializer= 'he_uniform'))\n",
        "\n",
        "model.add(Activation('relu'))\n",
        "\n",
        "model.add(MaxPooling2D(pool_size=(2,2)))"
      ],
      "metadata": {
        "id": "ESt1Rg5paeOk"
      },
      "execution_count": 15,
      "outputs": []
    },
    {
      "cell_type": "code",
      "source": [
        "model.add(Flatten())\n",
        "model.add(Dense(64))\n",
        "model.add(Activation('relu'))\n",
        "model.add(Dropout(0.5))\n",
        "model.add(Dense(2))        #Categorical Classification\n",
        "model.add(Activation('softmax'))"
      ],
      "metadata": {
        "id": "WOJgxEiUbdjz"
      },
      "execution_count": 25,
      "outputs": []
    },
    {
      "cell_type": "markdown",
      "source": [
        "* Binary CrossEntropy =1 (activation: `sigmoid`)\n",
        "* Categorical CrossEntropy = 2, (activation: `softMax`)\n",
        "\n"
      ],
      "metadata": {
        "id": "2bS8O5Uhcr57"
      }
    },
    {
      "cell_type": "code",
      "source": [
        "model.compile(loss = 'categorical_crossentropy', optimizer= 'adam',\n",
        "              metrics=['accuracy'])"
      ],
      "metadata": {
        "id": "yvwDtLdXdNT4"
      },
      "execution_count": 26,
      "outputs": []
    },
    {
      "cell_type": "code",
      "source": [
        "model.fit(x_train, y_train, batch_size=32, verbose=1, epochs = 10,\n",
        "          validation_data= (x_test, y_test), shuffle= False)"
      ],
      "metadata": {
        "colab": {
          "base_uri": "https://localhost:8080/"
        },
        "id": "V8j0zMB3eAju",
        "outputId": "52cc9414-715f-480b-97b2-0016e781b571"
      },
      "execution_count": 32,
      "outputs": [
        {
          "output_type": "stream",
          "name": "stdout",
          "text": [
            "Epoch 1/10\n",
            "75/75 [==============================] - 1s 12ms/step - loss: 0.0473 - accuracy: 0.9908 - val_loss: 0.1747 - val_accuracy: 0.9667\n",
            "Epoch 2/10\n",
            "75/75 [==============================] - 1s 9ms/step - loss: 0.0298 - accuracy: 0.9929 - val_loss: 0.1436 - val_accuracy: 0.9750\n",
            "Epoch 3/10\n",
            "75/75 [==============================] - 1s 11ms/step - loss: 0.0115 - accuracy: 0.9983 - val_loss: 0.1305 - val_accuracy: 0.9767\n",
            "Epoch 4/10\n",
            "75/75 [==============================] - 1s 8ms/step - loss: 0.0093 - accuracy: 0.9987 - val_loss: 0.1265 - val_accuracy: 0.9817\n",
            "Epoch 5/10\n",
            "75/75 [==============================] - 1s 7ms/step - loss: 0.0122 - accuracy: 0.9975 - val_loss: 0.1432 - val_accuracy: 0.9767\n",
            "Epoch 6/10\n",
            "75/75 [==============================] - 1s 7ms/step - loss: 0.0105 - accuracy: 0.9992 - val_loss: 0.1595 - val_accuracy: 0.9750\n",
            "Epoch 7/10\n",
            "75/75 [==============================] - 1s 7ms/step - loss: 0.0160 - accuracy: 0.9971 - val_loss: 0.1763 - val_accuracy: 0.9750\n",
            "Epoch 8/10\n",
            "75/75 [==============================] - 1s 8ms/step - loss: 0.0194 - accuracy: 0.9958 - val_loss: 0.1767 - val_accuracy: 0.9733\n",
            "Epoch 9/10\n",
            "75/75 [==============================] - 1s 7ms/step - loss: 0.0091 - accuracy: 0.9987 - val_loss: 0.1461 - val_accuracy: 0.9767\n",
            "Epoch 10/10\n",
            "75/75 [==============================] - 1s 7ms/step - loss: 0.0426 - accuracy: 0.9925 - val_loss: 0.1413 - val_accuracy: 0.9817\n"
          ]
        },
        {
          "output_type": "execute_result",
          "data": {
            "text/plain": [
              "<keras.src.callbacks.History at 0x7f761cd79990>"
            ]
          },
          "metadata": {},
          "execution_count": 32
        }
      ]
    },
    {
      "cell_type": "code",
      "source": [
        "model.save('BrainTumor10Epochs_categorical.keras')"
      ],
      "metadata": {
        "id": "T9VVWaF-fIUp"
      },
      "execution_count": 33,
      "outputs": []
    }
  ]
}