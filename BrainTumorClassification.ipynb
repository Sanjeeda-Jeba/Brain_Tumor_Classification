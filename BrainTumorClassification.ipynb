{
  "nbformat": 4,
  "nbformat_minor": 0,
  "metadata": {
    "colab": {
      "provenance": [],
      "gpuType": "T4",
      "authorship_tag": "ABX9TyMJg7dq5OE9kGyLPPBVchp2",
      "include_colab_link": true
    },
    "kernelspec": {
      "name": "python3",
      "display_name": "Python 3"
    },
    "language_info": {
      "name": "python"
    },
    "accelerator": "GPU"
  },
  "cells": [
    {
      "cell_type": "markdown",
      "metadata": {
        "id": "view-in-github",
        "colab_type": "text"
      },
      "source": [
        "<a href=\"https://colab.research.google.com/github/Sanjeeda-Jeba/Brain_Tumor_Classification/blob/main/BrainTumorClassification.ipynb\" target=\"_parent\"><img src=\"https://colab.research.google.com/assets/colab-badge.svg\" alt=\"Open In Colab\"/></a>"
      ]
    },
    {
      "cell_type": "markdown",
      "source": [
        "# Dataset\n",
        " * Link: `https://www.kaggle.com/datasets/ahmedhamada0/brain-tumor-detection`"
      ],
      "metadata": {
        "id": "r3gD0RVaF2o3"
      }
    },
    {
      "cell_type": "code",
      "execution_count": null,
      "metadata": {
        "id": "p47jccnWjUk5"
      },
      "outputs": [],
      "source": [
        "# Toget the dataset saving from DropBox\n",
        "\n",
        "!wget https://www.dropbox.com/scl/fi/h9m24hojzfumn0utj9c9s/Br35H_Dataset.zip?rlkey=tpflcfx3tchdpnblxnuxkj6ze&dl=0\n"
      ]
    },
    {
      "cell_type": "code",
      "source": [
        "# UNZIP\n",
        "\n",
        "!unzip /content/Br35H_Dataset.zip?rlkey=tpflcfx3tchdpnblxnuxkj6ze\n"
      ],
      "metadata": {
        "id": "szKWhtsglNrx"
      },
      "execution_count": null,
      "outputs": []
    },
    {
      "cell_type": "code",
      "source": [
        "import cv2\n",
        "import os\n",
        "import tensorflow as tf\n",
        "from tensorflow import keras\n",
        "from PIL import Image\n",
        "import numpy as np\n",
        "from sklearn.model_selection import train_test_split\n",
        "from keras.utils import normalize\n",
        "from keras.models import Sequential\n",
        "from keras.layers import Conv2D, MaxPooling2D\n",
        "from keras.layers import Activation, Dropout, Flatten, Dense"
      ],
      "metadata": {
        "id": "IpTZHkUNHIoH"
      },
      "execution_count": 3,
      "outputs": []
    },
    {
      "cell_type": "code",
      "source": [
        "img_dir = \"/content/Dataset/\""
      ],
      "metadata": {
        "id": "cLzLgCUlHXHl"
      },
      "execution_count": 4,
      "outputs": []
    },
    {
      "cell_type": "code",
      "source": [
        "no_img = os.listdir(img_dir + \"no/\")\n",
        "yes_img = os.listdir(img_dir + \"yes/\")\n",
        "len(no_img)\n",
        "len(yes_img)\n",
        "\n",
        "### Creating two lists:\n",
        "input_size = 64\n",
        "d_s = []\n",
        "label = []\n"
      ],
      "metadata": {
        "id": "OLv7MYULHq3r"
      },
      "execution_count": 5,
      "outputs": []
    },
    {
      "cell_type": "code",
      "source": [
        "\n",
        "for i, img_name in enumerate(no_img):\n",
        "  if(img_name.split('.')[1] == 'jpg'):\n",
        "    img = cv2.imread(img_dir + \"no/\" + img_name)\n",
        "    img = Image.fromarray(img , 'RGB')\n",
        "    img = img.resize((input_size,input_size))\n",
        "    d_s.append(np.array(img))\n",
        "    label.append(0)"
      ],
      "metadata": {
        "id": "vkmn9hsfI5Na"
      },
      "execution_count": 6,
      "outputs": []
    },
    {
      "cell_type": "code",
      "source": [
        "#Now The same exact steps for the Yes folder:\n",
        "for i, img_name in enumerate(yes_img):\n",
        "  if(img_name.split('.')[1] == 'jpg'):\n",
        "    img = cv2.imread(img_dir + \"yes/\" + img_name)\n",
        "    img = Image.fromarray(img , 'RGB')\n",
        "    img = img.resize((input_size,input_size))\n",
        "    d_s.append(np.array(img))\n",
        "    label.append(1)\n"
      ],
      "metadata": {
        "id": "7ySXS9QZMhWx"
      },
      "execution_count": 7,
      "outputs": []
    },
    {
      "cell_type": "code",
      "source": [
        "len(d_s)"
      ],
      "metadata": {
        "colab": {
          "base_uri": "https://localhost:8080/"
        },
        "id": "_Bfd_fu1Nf4C",
        "outputId": "dc70f0ab-6e26-4f3b-8202-892abbe5b4bd"
      },
      "execution_count": 8,
      "outputs": [
        {
          "output_type": "execute_result",
          "data": {
            "text/plain": [
              "3000"
            ]
          },
          "metadata": {},
          "execution_count": 8
        }
      ]
    },
    {
      "cell_type": "code",
      "source": [
        "### Now turning both the lists (d_s and label) into numpy arrays:\n",
        "\n",
        "dataset = np.array(d_s)\n",
        "\n",
        "label = np.array(label)"
      ],
      "metadata": {
        "id": "V7Ugk41ROPM6"
      },
      "execution_count": 9,
      "outputs": []
    },
    {
      "cell_type": "code",
      "source": [
        "### Spliting the dataset:\n",
        "\n",
        "x_train, x_test, y_train, y_test = train_test_split(dataset, label, test_size = 0.2,\n",
        "                                                    random_state = 0)"
      ],
      "metadata": {
        "id": "F1_Zd2T6PRY5"
      },
      "execution_count": 10,
      "outputs": []
    },
    {
      "cell_type": "code",
      "source": [
        "### Now normalize the data:\n",
        "x_train = normalize(x_train, axis = 1)\n",
        "\n",
        "x_test = normalize(x_test, axis = 1)"
      ],
      "metadata": {
        "id": "8LcUz2fBRDLK"
      },
      "execution_count": 11,
      "outputs": []
    },
    {
      "cell_type": "markdown",
      "source": [
        "# Model Building"
      ],
      "metadata": {
        "id": "ljYxlWelU9Kw"
      }
    },
    {
      "cell_type": "code",
      "source": [
        "model = Sequential()"
      ],
      "metadata": {
        "id": "BXZbBIj6VBHY"
      },
      "execution_count": 12,
      "outputs": []
    },
    {
      "cell_type": "code",
      "source": [
        "model.add(Conv2D(32, (3,3), input_shape = (input_size, input_size, 3)))\n",
        "\n",
        "model.add(Activation('relu'))\n",
        "\n",
        "model.add(MaxPooling2D(pool_size=(2,2)))"
      ],
      "metadata": {
        "id": "EMa-XJkpWj8r"
      },
      "execution_count": 13,
      "outputs": []
    },
    {
      "cell_type": "code",
      "source": [
        "model.add(Conv2D(32, (3,3), kernel_initializer= 'he_uniform'))\n",
        "\n",
        "model.add(Activation('relu'))\n",
        "\n",
        "model.add(MaxPooling2D(pool_size=(2,2)))"
      ],
      "metadata": {
        "id": "pWAM6FWiaStl"
      },
      "execution_count": 14,
      "outputs": []
    },
    {
      "cell_type": "code",
      "source": [
        "model.add(Conv2D(64, (3,3), kernel_initializer= 'he_uniform'))\n",
        "\n",
        "model.add(Activation('relu'))\n",
        "\n",
        "model.add(MaxPooling2D(pool_size=(2,2)))"
      ],
      "metadata": {
        "id": "ESt1Rg5paeOk"
      },
      "execution_count": 15,
      "outputs": []
    },
    {
      "cell_type": "code",
      "source": [
        "model.add(Flatten())\n",
        "model.add(Dense(64))\n",
        "model.add(Activation('relu'))\n",
        "model.add(Dropout(0.5))\n",
        "model.add(Dense(1))        #Binary Classification\n",
        "model.add(Activation('sigmoid'))"
      ],
      "metadata": {
        "id": "WOJgxEiUbdjz"
      },
      "execution_count": 16,
      "outputs": []
    },
    {
      "cell_type": "markdown",
      "source": [
        "* Binary CrossEntropy =1 (activation: `sigmoid`)\n",
        "* Categorical CrossEntropy = 2, (activation: `softMax`)\n",
        "\n"
      ],
      "metadata": {
        "id": "2bS8O5Uhcr57"
      }
    },
    {
      "cell_type": "code",
      "source": [
        "model.compile(loss = 'binary_crossentropy', optimizer= 'adam',\n",
        "              metrics=['accuracy'])"
      ],
      "metadata": {
        "id": "yvwDtLdXdNT4"
      },
      "execution_count": 17,
      "outputs": []
    },
    {
      "cell_type": "code",
      "source": [
        "model.fit(x_train, y_train, batch_size=32, verbose=1, epochs = 10,\n",
        "          validation_data= (x_test, y_test), shuffle= False)"
      ],
      "metadata": {
        "colab": {
          "base_uri": "https://localhost:8080/"
        },
        "id": "V8j0zMB3eAju",
        "outputId": "621ed36a-33ee-4850-8bfc-250daa7e4a5b"
      },
      "execution_count": 18,
      "outputs": [
        {
          "output_type": "stream",
          "name": "stdout",
          "text": [
            "Epoch 1/10\n",
            "75/75 [==============================] - 12s 13ms/step - loss: 0.5693 - accuracy: 0.7092 - val_loss: 0.4860 - val_accuracy: 0.7633\n",
            "Epoch 2/10\n",
            "75/75 [==============================] - 0s 6ms/step - loss: 0.4841 - accuracy: 0.7800 - val_loss: 0.4193 - val_accuracy: 0.8250\n",
            "Epoch 3/10\n",
            "75/75 [==============================] - 0s 6ms/step - loss: 0.3915 - accuracy: 0.8354 - val_loss: 0.3292 - val_accuracy: 0.8483\n",
            "Epoch 4/10\n",
            "75/75 [==============================] - 0s 6ms/step - loss: 0.3096 - accuracy: 0.8771 - val_loss: 0.2761 - val_accuracy: 0.8767\n",
            "Epoch 5/10\n",
            "75/75 [==============================] - 0s 6ms/step - loss: 0.2400 - accuracy: 0.9071 - val_loss: 0.2094 - val_accuracy: 0.9217\n",
            "Epoch 6/10\n",
            "75/75 [==============================] - 0s 6ms/step - loss: 0.1771 - accuracy: 0.9358 - val_loss: 0.1731 - val_accuracy: 0.9467\n",
            "Epoch 7/10\n",
            "75/75 [==============================] - 0s 6ms/step - loss: 0.1444 - accuracy: 0.9500 - val_loss: 0.1485 - val_accuracy: 0.9567\n",
            "Epoch 8/10\n",
            "75/75 [==============================] - 0s 6ms/step - loss: 0.0984 - accuracy: 0.9667 - val_loss: 0.1261 - val_accuracy: 0.9617\n",
            "Epoch 9/10\n",
            "75/75 [==============================] - 0s 6ms/step - loss: 0.0804 - accuracy: 0.9754 - val_loss: 0.1199 - val_accuracy: 0.9700\n",
            "Epoch 10/10\n",
            "75/75 [==============================] - 0s 6ms/step - loss: 0.0634 - accuracy: 0.9812 - val_loss: 0.1169 - val_accuracy: 0.9717\n"
          ]
        },
        {
          "output_type": "execute_result",
          "data": {
            "text/plain": [
              "<keras.src.callbacks.History at 0x7f76b93b70a0>"
            ]
          },
          "metadata": {},
          "execution_count": 18
        }
      ]
    },
    {
      "cell_type": "code",
      "source": [
        "model.save('BrainTumor10Epochs.h5')"
      ],
      "metadata": {
        "colab": {
          "base_uri": "https://localhost:8080/"
        },
        "id": "T9VVWaF-fIUp",
        "outputId": "09e1fb13-2db3-4302-8b99-cca4472521d5"
      },
      "execution_count": 19,
      "outputs": [
        {
          "output_type": "stream",
          "name": "stderr",
          "text": [
            "/usr/local/lib/python3.10/dist-packages/keras/src/engine/training.py:3000: UserWarning: You are saving your model as an HDF5 file via `model.save()`. This file format is considered legacy. We recommend using instead the native Keras format, e.g. `model.save('my_model.keras')`.\n",
            "  saving_api.save_model(\n"
          ]
        }
      ]
    }
  ]
}