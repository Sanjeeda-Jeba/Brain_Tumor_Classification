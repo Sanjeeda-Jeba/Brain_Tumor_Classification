{
  "nbformat": 4,
  "nbformat_minor": 0,
  "metadata": {
    "colab": {
      "provenance": [],
      "gpuType": "T4",
      "authorship_tag": "ABX9TyMz1vnV6ObbAZMqmV14Lpes",
      "include_colab_link": true
    },
    "kernelspec": {
      "name": "python3",
      "display_name": "Python 3"
    },
    "language_info": {
      "name": "python"
    },
    "accelerator": "GPU"
  },
  "cells": [
    {
      "cell_type": "markdown",
      "metadata": {
        "id": "view-in-github",
        "colab_type": "text"
      },
      "source": [
        "<a href=\"https://colab.research.google.com/github/Sanjeeda-Jeba/Brain_Tumor_Classification/blob/main/BrainTumorClassification_updated.ipynb\" target=\"_parent\"><img src=\"https://colab.research.google.com/assets/colab-badge.svg\" alt=\"Open In Colab\"/></a>"
      ]
    },
    {
      "cell_type": "markdown",
      "source": [
        "# Dataset\n",
        " * Link: `https://www.kaggle.com/datasets/ahmedhamada0/brain-tumor-detection`"
      ],
      "metadata": {
        "id": "r3gD0RVaF2o3"
      }
    },
    {
      "cell_type": "code",
      "execution_count": null,
      "metadata": {
        "id": "p47jccnWjUk5"
      },
      "outputs": [],
      "source": [
        "# Toget the dataset saving from DropBox\n",
        "\n",
        "!wget https://www.dropbox.com/scl/fi/h9m24hojzfumn0utj9c9s/Br35H_Dataset.zip?rlkey=tpflcfx3tchdpnblxnuxkj6ze&dl=0\n"
      ]
    },
    {
      "cell_type": "code",
      "source": [
        "# UNZIP\n",
        "\n",
        "!unzip /content/Br35H_Dataset.zip?rlkey=tpflcfx3tchdpnblxnuxkj6ze\n"
      ],
      "metadata": {
        "id": "szKWhtsglNrx"
      },
      "execution_count": null,
      "outputs": []
    },
    {
      "cell_type": "code",
      "source": [
        "import cv2\n",
        "import os\n",
        "import tensorflow as tf\n",
        "from tensorflow import keras\n",
        "from PIL import Image\n",
        "import numpy as np\n",
        "from sklearn.model_selection import train_test_split\n",
        "from sklearn.metrics import accuracy_score\n",
        "from keras.utils import normalize, to_categorical\n",
        "from keras.models import Sequential, load_model\n",
        "from keras.layers import Conv2D, MaxPooling2D\n",
        "from keras.layers import Activation, Dropout, Flatten, Dense"
      ],
      "metadata": {
        "id": "IpTZHkUNHIoH"
      },
      "execution_count": 21,
      "outputs": []
    },
    {
      "cell_type": "code",
      "source": [
        "img_dir = \"/content/Dataset/\""
      ],
      "metadata": {
        "id": "cLzLgCUlHXHl"
      },
      "execution_count": 4,
      "outputs": []
    },
    {
      "cell_type": "code",
      "source": [
        "no_img = os.listdir(img_dir + \"no/\")\n",
        "yes_img = os.listdir(img_dir + \"yes/\")\n",
        "len(no_img)\n",
        "len(yes_img)\n",
        "\n",
        "### Creating two lists:\n",
        "input_size = 64\n",
        "d_s = []\n",
        "label = []\n"
      ],
      "metadata": {
        "id": "OLv7MYULHq3r"
      },
      "execution_count": 5,
      "outputs": []
    },
    {
      "cell_type": "code",
      "source": [
        "\n",
        "for i, img_name in enumerate(no_img):\n",
        "  if(img_name.split('.')[1] == 'jpg'):\n",
        "    img = cv2.imread(img_dir + \"no/\" + img_name)\n",
        "    img = Image.fromarray(img , 'RGB')\n",
        "    img = img.resize((input_size,input_size))\n",
        "    d_s.append(np.array(img))\n",
        "    label.append(0)"
      ],
      "metadata": {
        "id": "vkmn9hsfI5Na"
      },
      "execution_count": 6,
      "outputs": []
    },
    {
      "cell_type": "code",
      "source": [
        "#Now The same exact steps for the Yes folder:\n",
        "for i, img_name in enumerate(yes_img):\n",
        "  if(img_name.split('.')[1] == 'jpg'):\n",
        "    img = cv2.imread(img_dir + \"yes/\" + img_name)\n",
        "    img = Image.fromarray(img , 'RGB')\n",
        "    img = img.resize((input_size,input_size))\n",
        "    d_s.append(np.array(img))\n",
        "    label.append(1)\n"
      ],
      "metadata": {
        "id": "7ySXS9QZMhWx"
      },
      "execution_count": 7,
      "outputs": []
    },
    {
      "cell_type": "code",
      "source": [
        "len(d_s)"
      ],
      "metadata": {
        "colab": {
          "base_uri": "https://localhost:8080/"
        },
        "id": "_Bfd_fu1Nf4C",
        "outputId": "3946fef2-291e-4664-9443-de837450c419"
      },
      "execution_count": 8,
      "outputs": [
        {
          "output_type": "execute_result",
          "data": {
            "text/plain": [
              "3000"
            ]
          },
          "metadata": {},
          "execution_count": 8
        }
      ]
    },
    {
      "cell_type": "code",
      "source": [
        "### Now turning both the lists (d_s and label) into numpy arrays:\n",
        "\n",
        "dataset = np.array(d_s)\n",
        "\n",
        "label = np.array(label)"
      ],
      "metadata": {
        "id": "V7Ugk41ROPM6"
      },
      "execution_count": 9,
      "outputs": []
    },
    {
      "cell_type": "code",
      "source": [
        "### Spliting the dataset:\n",
        "\n",
        "x_train, x_test, y_train, y_test = train_test_split(dataset, label, test_size = 0.2,\n",
        "                                                    random_state = 0)"
      ],
      "metadata": {
        "id": "F1_Zd2T6PRY5"
      },
      "execution_count": 10,
      "outputs": []
    },
    {
      "cell_type": "code",
      "source": [
        "### Now normalize the data:\n",
        "x_train = normalize(x_train, axis = 1)\n",
        "\n",
        "x_test = normalize(x_test, axis = 1)"
      ],
      "metadata": {
        "id": "8LcUz2fBRDLK"
      },
      "execution_count": 11,
      "outputs": []
    },
    {
      "cell_type": "markdown",
      "source": [
        "# Model Building"
      ],
      "metadata": {
        "id": "ljYxlWelU9Kw"
      }
    },
    {
      "cell_type": "code",
      "source": [
        "model = Sequential()"
      ],
      "metadata": {
        "id": "BXZbBIj6VBHY"
      },
      "execution_count": 12,
      "outputs": []
    },
    {
      "cell_type": "code",
      "source": [
        "model.add(Conv2D(32, (3,3), input_shape = (input_size, input_size, 3)))\n",
        "\n",
        "model.add(Activation('relu'))\n",
        "\n",
        "model.add(MaxPooling2D(pool_size=(2,2)))"
      ],
      "metadata": {
        "id": "EMa-XJkpWj8r"
      },
      "execution_count": 13,
      "outputs": []
    },
    {
      "cell_type": "code",
      "source": [
        "model.add(Conv2D(32, (3,3), kernel_initializer= 'he_uniform'))\n",
        "\n",
        "model.add(Activation('relu'))\n",
        "\n",
        "model.add(MaxPooling2D(pool_size=(2,2)))"
      ],
      "metadata": {
        "id": "pWAM6FWiaStl"
      },
      "execution_count": 14,
      "outputs": []
    },
    {
      "cell_type": "code",
      "source": [
        "model.add(Conv2D(64, (3,3), kernel_initializer= 'he_uniform'))\n",
        "\n",
        "model.add(Activation('relu'))\n",
        "\n",
        "model.add(MaxPooling2D(pool_size=(2,2)))"
      ],
      "metadata": {
        "id": "ESt1Rg5paeOk"
      },
      "execution_count": 15,
      "outputs": []
    },
    {
      "cell_type": "code",
      "source": [
        "model.add(Flatten())\n",
        "model.add(Dense(64))\n",
        "model.add(Activation('relu'))\n",
        "model.add(Dropout(0.5))\n",
        "model.add(Dense(1))        #Binary Classification\n",
        "model.add(Activation('sigmoid'))"
      ],
      "metadata": {
        "id": "WOJgxEiUbdjz"
      },
      "execution_count": 16,
      "outputs": []
    },
    {
      "cell_type": "markdown",
      "source": [
        "* Binary CrossEntropy =1 (activation: `sigmoid`)\n",
        "* Categorical CrossEntropy = 2, (activation: `softMax`)\n",
        "\n"
      ],
      "metadata": {
        "id": "2bS8O5Uhcr57"
      }
    },
    {
      "cell_type": "code",
      "source": [
        "model.compile(loss = 'binary_crossentropy', optimizer= 'adam',\n",
        "              metrics=['accuracy'])"
      ],
      "metadata": {
        "id": "yvwDtLdXdNT4"
      },
      "execution_count": 17,
      "outputs": []
    },
    {
      "cell_type": "code",
      "source": [
        "model.fit(x_train, y_train, batch_size=16, verbose=1, epochs = 20,\n",
        "          validation_data= (x_test, y_test), shuffle= False)"
      ],
      "metadata": {
        "colab": {
          "base_uri": "https://localhost:8080/"
        },
        "id": "V8j0zMB3eAju",
        "outputId": "4592a025-8039-47ec-8f72-0f19037d9db5"
      },
      "execution_count": 56,
      "outputs": [
        {
          "output_type": "stream",
          "name": "stdout",
          "text": [
            "Epoch 1/20\n",
            "150/150 [==============================] - 1s 6ms/step - loss: 0.0372 - accuracy: 0.9875 - val_loss: 0.1825 - val_accuracy: 0.9767\n",
            "Epoch 2/20\n",
            "150/150 [==============================] - 1s 6ms/step - loss: 0.0242 - accuracy: 0.9892 - val_loss: 0.2770 - val_accuracy: 0.9617\n",
            "Epoch 3/20\n",
            "150/150 [==============================] - 1s 6ms/step - loss: 0.0058 - accuracy: 0.9983 - val_loss: 0.2295 - val_accuracy: 0.9717\n",
            "Epoch 4/20\n",
            "150/150 [==============================] - 1s 6ms/step - loss: 0.0014 - accuracy: 0.9996 - val_loss: 0.2312 - val_accuracy: 0.9717\n",
            "Epoch 5/20\n",
            "150/150 [==============================] - 1s 5ms/step - loss: 5.5448e-04 - accuracy: 1.0000 - val_loss: 0.2476 - val_accuracy: 0.9733\n",
            "Epoch 6/20\n",
            "150/150 [==============================] - 1s 6ms/step - loss: 3.7202e-04 - accuracy: 1.0000 - val_loss: 0.2595 - val_accuracy: 0.9733\n",
            "Epoch 7/20\n",
            "150/150 [==============================] - 1s 5ms/step - loss: 2.8757e-04 - accuracy: 1.0000 - val_loss: 0.2644 - val_accuracy: 0.9717\n",
            "Epoch 8/20\n",
            "150/150 [==============================] - 1s 5ms/step - loss: 4.6944e-04 - accuracy: 1.0000 - val_loss: 0.2688 - val_accuracy: 0.9700\n",
            "Epoch 9/20\n",
            "150/150 [==============================] - 1s 7ms/step - loss: 5.8506e-04 - accuracy: 1.0000 - val_loss: 0.2746 - val_accuracy: 0.9750\n",
            "Epoch 10/20\n",
            "150/150 [==============================] - 1s 8ms/step - loss: 0.0370 - accuracy: 0.9904 - val_loss: 0.2020 - val_accuracy: 0.9650\n",
            "Epoch 11/20\n",
            "150/150 [==============================] - 1s 7ms/step - loss: 0.0181 - accuracy: 0.9933 - val_loss: 0.2199 - val_accuracy: 0.9733\n",
            "Epoch 12/20\n",
            "150/150 [==============================] - 1s 6ms/step - loss: 0.0052 - accuracy: 0.9979 - val_loss: 0.2354 - val_accuracy: 0.9750\n",
            "Epoch 13/20\n",
            "150/150 [==============================] - 1s 6ms/step - loss: 5.1174e-04 - accuracy: 1.0000 - val_loss: 0.2389 - val_accuracy: 0.9750\n",
            "Epoch 14/20\n",
            "150/150 [==============================] - 1s 6ms/step - loss: 0.0037 - accuracy: 0.9987 - val_loss: 0.2393 - val_accuracy: 0.9733\n",
            "Epoch 15/20\n",
            "150/150 [==============================] - 1s 5ms/step - loss: 0.0111 - accuracy: 0.9971 - val_loss: 0.1834 - val_accuracy: 0.9733\n",
            "Epoch 16/20\n",
            "150/150 [==============================] - 1s 5ms/step - loss: 0.0046 - accuracy: 0.9992 - val_loss: 0.2450 - val_accuracy: 0.9750\n",
            "Epoch 17/20\n",
            "150/150 [==============================] - 1s 6ms/step - loss: 0.0011 - accuracy: 0.9996 - val_loss: 0.2327 - val_accuracy: 0.9717\n",
            "Epoch 18/20\n",
            "150/150 [==============================] - 1s 6ms/step - loss: 2.1369e-04 - accuracy: 1.0000 - val_loss: 0.2454 - val_accuracy: 0.9750\n",
            "Epoch 19/20\n",
            "150/150 [==============================] - 1s 5ms/step - loss: 2.8580e-04 - accuracy: 1.0000 - val_loss: 0.2540 - val_accuracy: 0.9750\n",
            "Epoch 20/20\n",
            "150/150 [==============================] - 1s 5ms/step - loss: 1.3167e-04 - accuracy: 1.0000 - val_loss: 0.2662 - val_accuracy: 0.9750\n"
          ]
        },
        {
          "output_type": "execute_result",
          "data": {
            "text/plain": [
              "<keras.src.callbacks.History at 0x7c6c684c7010>"
            ]
          },
          "metadata": {},
          "execution_count": 56
        }
      ]
    },
    {
      "cell_type": "code",
      "source": [
        "model.save('BrainTumor20EpochsB16.keras')"
      ],
      "metadata": {
        "id": "T9VVWaF-fIUp"
      },
      "execution_count": 57,
      "outputs": []
    },
    {
      "cell_type": "markdown",
      "source": [
        "# Prediction"
      ],
      "metadata": {
        "id": "-C9hn_s5zyiv"
      }
    },
    {
      "cell_type": "code",
      "source": [
        "MODEL = load_model('BrainTumor20EpochsB16.keras')"
      ],
      "metadata": {
        "id": "jML43IZMz1w_"
      },
      "execution_count": 58,
      "outputs": []
    },
    {
      "cell_type": "code",
      "source": [
        "pred_img = cv2.imread('/content/pred/pred5.jpg') #Copy the path of any image from pred folder\n",
        "\n",
        "img = Image.fromarray(pred_img)\n",
        "img = img.resize([64,64])\n",
        "\n",
        "### numpy array\n",
        "\n",
        "img = np.array(img)\n",
        "\n",
        "input_img = np.expand_dims(img, axis=0)\n",
        "\n",
        "prediction = model.predict(input_img)"
      ],
      "metadata": {
        "colab": {
          "base_uri": "https://localhost:8080/"
        },
        "id": "siE2BUXO0Gyl",
        "outputId": "2aeb959f-6be0-4ea2-f7e7-1702e32cec02"
      },
      "execution_count": 65,
      "outputs": [
        {
          "output_type": "stream",
          "name": "stdout",
          "text": [
            "1/1 [==============================] - 0s 26ms/step\n"
          ]
        }
      ]
    },
    {
      "cell_type": "code",
      "source": [
        "prediction"
      ],
      "metadata": {
        "colab": {
          "base_uri": "https://localhost:8080/"
        },
        "id": "IZsEVJoc1sU4",
        "outputId": "c82818e3-dd68-4eec-ad0c-c7e1c6935912"
      },
      "execution_count": 66,
      "outputs": [
        {
          "output_type": "execute_result",
          "data": {
            "text/plain": [
              "array([[1.]], dtype=float32)"
            ]
          },
          "metadata": {},
          "execution_count": 66
        }
      ]
    },
    {
      "cell_type": "code",
      "source": [
        "\n",
        "if prediction[0] == 1:\n",
        "  print('Tumor detected!')\n",
        "\n",
        "else:\n",
        "  print('Congratulations! no tumor detected!')"
      ],
      "metadata": {
        "colab": {
          "base_uri": "https://localhost:8080/"
        },
        "id": "WKaQZrW_0LxF",
        "outputId": "410d5729-4c77-4467-f1f3-1d852f8e64a1"
      },
      "execution_count": 67,
      "outputs": [
        {
          "output_type": "stream",
          "name": "stdout",
          "text": [
            "Tumor detected!\n"
          ]
        }
      ]
    }
  ]
}